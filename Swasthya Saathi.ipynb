{
 "cells": [
  {
   "cell_type": "markdown",
   "id": "27409f72-0b12-424e-9baf-8ace29f712ed",
   "metadata": {},
   "source": [
    "# **Title: स्वास्थ्य Saathi - Disease Prediction & Recommendations with Machine Learning (Random Forest)**"
   ]
  },
  {
   "cell_type": "markdown",
   "id": "9a3dda6a-dbf4-4c80-8845-09b51fb0e5f2",
   "metadata": {},
   "source": [
    "## **Description:**"
   ]
  },
  {
   "cell_type": "markdown",
   "id": "ef8879cd-e0c8-4b4c-952e-7f148b9e250e",
   "metadata": {},
   "source": [
    "स्वागत है। स्वास्थ्य Saathi में, ek powerful platform jo aapki health ko samajhne aur manage karne mein madad karta hai. Machine Learning ki capabilities ka use karke, hamara system aapke input symptoms ko analyze karke potential diseases ko accurately predict karta hai.\n",
    "\n",
    "\n",
    "~ I am Tushar, and I am excited to start this amazing project.ely."
   ]
  },
  {
   "cell_type": "markdown",
   "id": "fb20e070-0856-4d8c-8aac-3c729e7fd51a",
   "metadata": {},
   "source": [
    "## **Importing Libraries and Models**"
   ]
  },
  {
   "cell_type": "code",
   "execution_count": 36,
   "id": "c50ca3e3-33f8-4ee1-a5a4-acf979d82141",
   "metadata": {},
   "outputs": [],
   "source": [
    "import pandas as pd\n",
    "import numpy as np\n",
    "import pickle\n",
    "import os\n",
    "from sklearn.ensemble import RandomForestClassifier, GradientBoostingClassifier\n",
    "from sklearn.naive_bayes import MultinomialNB\n",
    "from sklearn.neighbors import KNeighborsClassifier\n",
    "from sklearn.svm import SVC\n",
    "from sklearn.model_selection import train_test_split\n",
    "from sklearn.preprocessing import LabelEncoder\n",
    "from sklearn.metrics import accuracy_score, confusion_matrix"
   ]
  },
  {
   "cell_type": "markdown",
   "id": "3072939e-fd6f-44e4-be4f-ed58c8e57a5c",
   "metadata": {},
   "source": [
    "## **Load and Prepare Dataset**"
   ]
  },
  {
   "cell_type": "code",
   "execution_count": 37,
   "id": "cf578e12-6abc-4690-bfbd-6de9c6e23ff3",
   "metadata": {},
   "outputs": [],
   "source": [
    "dataset = pd.read_csv('datasets/Training.csv')\n",
    "X = dataset.drop('prognosis', axis=1)\n",
    "y = dataset['prognosis']\n",
    "\n",
    "# Encode target labels\n",
    "le = LabelEncoder()\n",
    "y_encoded = le.fit_transform(y)\n",
    "\n",
    "# Train-Test Split\n",
    "X_train, X_test, y_train, y_test = train_test_split(X, y_encoded, test_size=0.3, random_state=20)"
   ]
  },
  {
   "cell_type": "markdown",
   "id": "4385ee2c-188f-461f-884f-6cba685715e1",
   "metadata": {},
   "source": [
    "## **Train and Evaluate Models**"
   ]
  },
  {
   "cell_type": "code",
   "execution_count": 29,
   "id": "43ff58ae-9bb6-40d6-9a9d-427d4aad5f81",
   "metadata": {},
   "outputs": [],
   "source": [
    "models = {\n",
    "    'SVC': SVC(kernel='linear'),\n",
    "    'RandomForest': RandomForestClassifier(n_estimators=100, random_state=42),\n",
    "    'GradientBoosting': GradientBoostingClassifier(n_estimators=100, random_state=42),\n",
    "    'KNeighbors': KNeighborsClassifier(n_neighbors=5),\n",
    "    'MultinomialNB': MultinomialNB()\n",
    "}\n",
    "\n",
    "best_model = None\n",
    "best_accuracy = 0"
   ]
  },
  {
   "cell_type": "markdown",
   "id": "d663677b-0e6b-4c83-abb3-99d97b2f3045",
   "metadata": {},
   "source": [
    "## **Model Evaluation**"
   ]
  },
  {
   "cell_type": "code",
   "execution_count": 40,
   "id": "c0490e57-857d-40e5-a0e6-f49485002ff5",
   "metadata": {},
   "outputs": [
    {
     "name": "stdout",
     "output_type": "stream",
     "text": [
      "========== Model Evaluation ==========\n",
      "SVC Accuracy: 1.0000\n",
      "SVC Confusion Matrix:\n",
      "[[40  0  0 ...  0  0  0]\n",
      " [ 0 43  0 ...  0  0  0]\n",
      " [ 0  0 28 ...  0  0  0]\n",
      " ...\n",
      " [ 0  0  0 ... 34  0  0]\n",
      " [ 0  0  0 ...  0 41  0]\n",
      " [ 0  0  0 ...  0  0 31]]\n",
      "========================================\n",
      "RandomForest Accuracy: 1.0000\n",
      "RandomForest Confusion Matrix:\n",
      "[[40  0  0 ...  0  0  0]\n",
      " [ 0 43  0 ...  0  0  0]\n",
      " [ 0  0 28 ...  0  0  0]\n",
      " ...\n",
      " [ 0  0  0 ... 34  0  0]\n",
      " [ 0  0  0 ...  0 41  0]\n",
      " [ 0  0  0 ...  0  0 31]]\n",
      "========================================\n",
      "GradientBoosting Accuracy: 1.0000\n",
      "GradientBoosting Confusion Matrix:\n",
      "[[40  0  0 ...  0  0  0]\n",
      " [ 0 43  0 ...  0  0  0]\n",
      " [ 0  0 28 ...  0  0  0]\n",
      " ...\n",
      " [ 0  0  0 ... 34  0  0]\n",
      " [ 0  0  0 ...  0 41  0]\n",
      " [ 0  0  0 ...  0  0 31]]\n",
      "========================================\n",
      "KNeighbors Accuracy: 1.0000\n",
      "KNeighbors Confusion Matrix:\n",
      "[[40  0  0 ...  0  0  0]\n",
      " [ 0 43  0 ...  0  0  0]\n",
      " [ 0  0 28 ...  0  0  0]\n",
      " ...\n",
      " [ 0  0  0 ... 34  0  0]\n",
      " [ 0  0  0 ...  0 41  0]\n",
      " [ 0  0  0 ...  0  0 31]]\n",
      "========================================\n",
      "MultinomialNB Accuracy: 1.0000\n",
      "MultinomialNB Confusion Matrix:\n",
      "[[40  0  0 ...  0  0  0]\n",
      " [ 0 43  0 ...  0  0  0]\n",
      " [ 0  0 28 ...  0  0  0]\n",
      " ...\n",
      " [ 0  0  0 ... 34  0  0]\n",
      " [ 0  0  0 ...  0 41  0]\n",
      " [ 0  0  0 ...  0  0 31]]\n",
      "========================================\n"
     ]
    }
   ],
   "source": [
    "print(\"========== Model Evaluation ==========\")\n",
    "for name, model in models.items():\n",
    "    model.fit(X_train, y_train)\n",
    "    preds = model.predict(X_test)\n",
    "    acc = accuracy_score(y_test, preds)\n",
    "    cm = confusion_matrix(y_test, preds)\n",
    "    print(f\"{name} Accuracy: {acc:.4f}\")\n",
    "    print(f\"{name} Confusion Matrix:\\n{cm}\\n{'='*40}\")\n",
    "    if acc > best_accuracy:\n",
    "        best_accuracy = acc\n",
    "        best_model = model"
   ]
  },
  {
   "cell_type": "markdown",
   "id": "0c72fd37-4e84-49e0-b588-ed7f324a565e",
   "metadata": {},
   "source": [
    "## **Save Best Model - *Random Forest***"
   ]
  },
  {
   "cell_type": "code",
   "execution_count": 41,
   "id": "bd2a05b3-ed5a-477c-b897-2fcd4c841013",
   "metadata": {},
   "outputs": [],
   "source": [
    "final_model = models['RandomForest']  # or best_model\n",
    "final_model.fit(X, y_encoded)  # Train on full data\n",
    "\n",
    "if not os.path.exists('models'):\n",
    "    os.makedirs('models')\n",
    "\n",
    "pickle.dump(final_model, open('models/random.pkl', 'wb'))\n",
    "pickle.dump(le, open('models/label_encoder.pkl', 'wb'))"
   ]
  },
  {
   "cell_type": "markdown",
   "id": "8435fc3d-f6ee-4a7f-9cc1-800d9b549ef5",
   "metadata": {},
   "source": [
    "## **Load Recommendation Datasets**"
   ]
  },
  {
   "cell_type": "code",
   "execution_count": 42,
   "id": "7ff0acf6-3834-464f-99dd-8241cecbaf45",
   "metadata": {},
   "outputs": [],
   "source": [
    "sym_des = pd.read_csv(\"datasets/symtoms_df.csv\")\n",
    "precautions = pd.read_csv(\"datasets/precautions_df.csv\")\n",
    "workout = pd.read_csv(\"datasets/workout_df.csv\")\n",
    "description = pd.read_csv(\"datasets/description.csv\")\n",
    "medications = pd.read_csv(\"datasets/medications.csv\")\n",
    "diets = pd.read_csv(\"datasets/diets.csv\")"
   ]
  },
  {
   "cell_type": "markdown",
   "id": "ef84dce5-7fea-40ea-b6c0-dc21b7f35053",
   "metadata": {},
   "source": [
    "## **Load Trained Model and Encoder**"
   ]
  },
  {
   "cell_type": "code",
   "execution_count": 33,
   "id": "b34769bd-ad0b-4cf6-8cb9-7fbcd5c825a2",
   "metadata": {},
   "outputs": [],
   "source": [
    "model = pickle.load(open('models/random.pkl', 'rb'))\n",
    "le = pickle.load(open('models/label_encoder.pkl', 'rb'))"
   ]
  },
  {
   "cell_type": "markdown",
   "id": "612ecaf9-c41f-4ff3-abd2-97d7fc6289b0",
   "metadata": {},
   "source": [
    "## **Load Trained Model and Encoder**"
   ]
  },
  {
   "cell_type": "code",
   "execution_count": 43,
   "id": "81820af1-37c1-4f61-8366-cd1512dd2c09",
   "metadata": {},
   "outputs": [],
   "source": [
    "model = pickle.load(open('models/random.pkl', 'rb'))\n",
    "le = pickle.load(open('models/label_encoder.pkl', 'rb'))"
   ]
  },
  {
   "cell_type": "markdown",
   "id": "450fab37-70eb-476a-9300-5dae2508aefd",
   "metadata": {},
   "source": [
    "## **Prediction and Recommendation**"
   ]
  },
  {
   "cell_type": "code",
   "execution_count": null,
   "id": "5785e5db-4943-49f1-820c-a1ec531413f4",
   "metadata": {},
   "outputs": [],
   "source": [
    "symptoms_dict = {symptom: idx for idx, symptom in enumerate(X.columns)}\n",
    "diseases_list = {i: disease for i, disease in enumerate(le.classes_)}\n",
    "\n",
    "def get_predicted_value(patient_symptoms):\n",
    "    input_vector = np.zeros(len(symptoms_dict))\n",
    "    for symptom in patient_symptoms:\n",
    "        if symptom in symptoms_dict:\n",
    "            input_vector[symptoms_dict[symptom]] = 1\n",
    "    input_df = pd.DataFrame([input_vector], columns=symptoms_dict.keys())  # Fix warning: match feature names\n",
    "    prediction = model.predict(input_df)[0]\n",
    "    return diseases_list[prediction]\n",
    "\n",
    "def get_recommendations(disease):\n",
    "    desc = \" \".join(description[description['Disease'] == disease]['Description'].values)\n",
    "    pre = precautions[precautions['Disease'] == disease][['Precaution_1', 'Precaution_2', 'Precaution_3', 'Precaution_4']].values.flatten()\n",
    "    med = medications[medications['Disease'] == disease]['Medication'].values\n",
    "    diet = diets[diets['Disease'] == disease]['Diet'].values\n",
    "    wrk = workout[workout['disease'] == disease]['workout'].values\n",
    "    return desc, pre, med, diet, wrk"
   ]
  },
  {
   "cell_type": "markdown",
   "id": "df28923f-b056-40e8-a175-3447cdc60e30",
   "metadata": {},
   "source": [
    "## **Testing**"
   ]
  },
  {
   "cell_type": "code",
   "execution_count": 35,
   "id": "62e0a8af-da3d-4f22-808c-4300d8460f39",
   "metadata": {},
   "outputs": [
    {
     "name": "stdout",
     "output_type": "stream",
     "text": [
      "\n",
      "Welcome to Swasthya Saathi!\n"
     ]
    },
    {
     "name": "stdin",
     "output_type": "stream",
     "text": [
      "Enter your symptoms :  itching\n"
     ]
    },
    {
     "name": "stdout",
     "output_type": "stream",
     "text": [
      "\n",
      "================= Predicted Disease =================\n",
      "Fungal infection\n",
      "\n",
      "================= Description =======================\n",
      "Fungal infection is a common skin condition caused by fungi.\n",
      "\n",
      "================= Precautions =======================\n",
      "1. bath twice\n",
      "2. use detol or neem in bathing water\n",
      "3. keep infected area dry\n",
      "4. use clean cloths\n",
      "\n",
      "================= Medications =======================\n",
      "1. ['Antifungal Cream', 'Fluconazole', 'Terbinafine', 'Clotrimazole', 'Ketoconazole']\n",
      "\n",
      "================= Workouts ==========================\n",
      "1. Avoid sugary foods\n",
      "2. Consume probiotics\n",
      "3. Increase intake of garlic\n",
      "4. Include yogurt in diet\n",
      "5. Limit processed foods\n",
      "6. Stay hydrated\n",
      "7. Consume green tea\n",
      "8. Eat foods rich in zinc\n",
      "9. Include turmeric in diet\n",
      "10. Eat fruits and vegetables\n",
      "\n",
      "================= Diet Suggestions ==================\n",
      "1. ['Antifungal Diet', 'Probiotics', 'Garlic', 'Coconut oil', 'Turmeric']\n"
     ]
    }
   ],
   "source": [
    "if __name__ == \"__main__\":\n",
    "    print(\"\\nWelcome to Swasthya Saathi!\")\n",
    "    symptoms_input = input(\"Enter your symptoms : \")\n",
    "    user_symptoms = [s.strip() for s in symptoms_input.split(',')]\n",
    "\n",
    "    predicted_disease = get_predicted_value(user_symptoms)\n",
    "    desc, pre, med, diet, wrk = get_recommendations(predicted_disease)\n",
    "\n",
    "    print(\"\\n================= Predicted Disease =================\")\n",
    "    print(predicted_disease)\n",
    "    print(\"\\n================= Description =======================\")\n",
    "    print(desc)\n",
    "    print(\"\\n================= Precautions =======================\")\n",
    "    for i, p in enumerate(pre, 1):\n",
    "        print(f\"{i}. {p}\")\n",
    "    print(\"\\n================= Medications =======================\")\n",
    "    for i, m in enumerate(med, 1):\n",
    "        print(f\"{i}. {m}\")\n",
    "    print(\"\\n================= Workouts ==========================\")\n",
    "    for i, w in enumerate(wrk, 1):\n",
    "        print(f\"{i}. {w}\")\n",
    "    print(\"\\n================= Diet Suggestions ==================\")\n",
    "    for i, d in enumerate(diet, 1):\n",
    "        print(f\"{i}. {d}\")\n"
   ]
  },
  {
   "cell_type": "code",
   "execution_count": null,
   "id": "1e96d65d-ab11-49f6-9d3a-4c82f3db323a",
   "metadata": {},
   "outputs": [],
   "source": []
  }
 ],
 "metadata": {
  "kernelspec": {
   "display_name": "Python 3 (ipykernel)",
   "language": "python",
   "name": "python3"
  },
  "language_info": {
   "codemirror_mode": {
    "name": "ipython",
    "version": 3
   },
   "file_extension": ".py",
   "mimetype": "text/x-python",
   "name": "python",
   "nbconvert_exporter": "python",
   "pygments_lexer": "ipython3",
   "version": "3.12.2"
  }
 },
 "nbformat": 4,
 "nbformat_minor": 5
}
